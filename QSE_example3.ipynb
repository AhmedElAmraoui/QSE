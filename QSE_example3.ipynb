{
 "cells": [
  {
   "cell_type": "code",
   "execution_count": null,
   "id": "7c06bbe9",
   "metadata": {},
   "outputs": [
    {
     "name": "stdout",
     "output_type": "stream",
     "text": [
      "K=0 | approx E=1.0000 | error=3.7321 | fidelity=0.0264 | dim=1\n",
      "K=1 | approx E=-1.9271 | error=0.8049 | fidelity=0.3687 | dim=5\n",
      "K=2 | approx E=-2.7321 | error=0.0000 | fidelity=0.5000 | dim=8\n",
      "K=3 | approx E=-2.7321 | error=0.0000 | fidelity=0.5000 | dim=8\n"
     ]
    }
   ],
   "source": [
    "import numpy as np\n",
    "from scipy.linalg import eigh\n",
    "\n",
    "# Pauli-Matrizen\n",
    "I = np.eye(2)\n",
    "X = np.array([[0, 1], [1, 0]])\n",
    "Y = np.array([[0, -1j], [1j, 0]])\n",
    "Z = np.array([[1, 0], [0, -1]])\n",
    "H_gate = (1 / np.sqrt(2)) * np.array([[1, 1], [1, -1]])\n",
    "\n",
    "# Tensorprodukt\n",
    "def tensor(*ops):\n",
    "    result = ops[0]\n",
    "    for op in ops[1:]:\n",
    "        result = np.kron(result, op)\n",
    "    return result\n",
    "\n",
    "# Baue Hamiltonian: Z0Z1 + Z1Z2 + X0 + Y1\n",
    "P1 = tensor(Z, Z, I)\n",
    "P2 = tensor(I, Z, Z)\n",
    "P3 = tensor(X, I, I)\n",
    "P4 = tensor(I, Y, I)\n",
    "pauli_terms = [P1, P2, P3, P4]\n",
    "H = sum(pauli_terms)\n",
    "\n",
    "# Initialzustand: |+++>\n",
    "zero = np.array([[1], [0]])\n",
    "psi_000 = tensor(zero, zero, zero)\n",
    "psi_plus = tensor(H_gate, H_gate, H_gate) @ psi_000\n",
    "\n",
    "# Krylov-Vektoren erzeugen (Moment k = 0 bis K)\n",
    "def generate_krylov_vectors(psi, pauli_terms, max_k=1):\n",
    "    basis_ops = [np.eye(8)]  # Start mit Identität (Moment 0)\n",
    "    for k in range(1, max_k + 1):\n",
    "        new_ops = []\n",
    "        for a in basis_ops:\n",
    "            for p in pauli_terms:\n",
    "                op = p @ a\n",
    "                if not any(np.allclose(op, existing) for existing in basis_ops + new_ops):\n",
    "                    new_ops.append(op)\n",
    "        basis_ops.extend(new_ops)\n",
    "    V = [op @ psi for op in basis_ops]\n",
    "    return V, basis_ops\n",
    "\n",
    "# Simulation für gegebenes K\n",
    "def iqae_run(K):\n",
    "    V, ops = generate_krylov_vectors(psi_plus, pauli_terms, max_k=K)\n",
    "    V_matrix = np.column_stack(V)\n",
    "    Q, R = np.linalg.qr(V_matrix)\n",
    "\n",
    "    H_reduced = np.array([[np.vdot(Q[:, i], H @ Q[:, j]) for j in range(Q.shape[1])]\n",
    "                          for i in range(Q.shape[1])])\n",
    "    eigvals_approx, eigvecs_approx = eigh(H_reduced)\n",
    "    ground_energy_approx = eigvals_approx[0]\n",
    "    ground_state_approx = Q @ eigvecs_approx[:, 0]\n",
    "\n",
    "    eigvals_exact, eigvecs_exact = eigh(H)\n",
    "    ground_energy_exact = eigvals_exact[0]\n",
    "    ground_state_exact = eigvecs_exact[:, 0]\n",
    "\n",
    "    energy_error = np.abs(ground_energy_exact - ground_energy_approx)\n",
    "    fidelity = np.abs(np.vdot(ground_state_exact, ground_state_approx)) ** 2\n",
    "\n",
    "    return {\n",
    "        \"K\": K,\n",
    "        \"approx_energy\": ground_energy_approx,\n",
    "        \"exact_energy\": ground_energy_exact,\n",
    "        \"energy_error\": energy_error,\n",
    "        \"fidelity\": fidelity,\n",
    "        \"dim_reduced\": Q.shape[1]\n",
    "    }\n",
    "\n",
    "# Beispiel: adaptive Analyse für K = 0 bis 3\n",
    "results = [iqae_run(K) for K in range(0, 4)]\n",
    "for r in results:\n",
    "    print(f\"K={r['K']} | approx E={r['approx_energy']:.4f} | error={r['energy_error']:.4f} | fidelity={r['fidelity']:.4f} | dim={r['dim_reduced']}\")"
   ]
  },
  {
   "cell_type": "code",
   "execution_count": 2,
   "id": "92921091",
   "metadata": {},
   "outputs": [
    {
     "name": "stdout",
     "output_type": "stream",
     "text": [
      "Niedrigster Eigenwert: -2.732051\n",
      "Entartung (Multiplizität): 2\n"
     ]
    }
   ],
   "source": [
    "eigvals, eigvecs = eigh(H)\n",
    "\n",
    "# Schwelle für numerische Gleichheit\n",
    "tol = 1e-8\n",
    "\n",
    "ground_energy = eigvals[0]\n",
    "degeneracy = np.sum(np.abs(eigvals - ground_energy) < tol)\n",
    "\n",
    "print(f\"Niedrigster Eigenwert: {ground_energy:.6f}\")\n",
    "print(f\"Entartung (Multiplizität): {degeneracy}\")"
   ]
  },
  {
   "cell_type": "code",
   "execution_count": 3,
   "id": "5982c915",
   "metadata": {},
   "outputs": [
    {
     "name": "stdout",
     "output_type": "stream",
     "text": [
      "K=0 | approx E=-3.0000 | error=0.4940 | fidelity=0.8818 | dim=1\n",
      "K=1 | approx E=-3.4734 | error=0.0205 | fidelity=0.9931 | dim=5\n",
      "K=2 | approx E=-3.4940 | error=0.0000 | fidelity=1.0000 | dim=8\n",
      "K=3 | approx E=-3.4940 | error=0.0000 | fidelity=1.0000 | dim=8\n"
     ]
    }
   ],
   "source": [
    "# Hamiltonian: -Z0Z1 - Z1Z2 - h*(X0 + X1 + X2)\n",
    "h = 1.0\n",
    "\n",
    "P1 = -tensor(Z, Z, I)     # -Z0Z1\n",
    "P2 = -tensor(I, Z, Z)     # -Z1Z2\n",
    "P3 = -h * tensor(X, I, I) # -h X0\n",
    "P4 = -h * tensor(I, X, I) # -h X1\n",
    "P5 = -h * tensor(I, I, X) # -h X2\n",
    "\n",
    "H = P1 + P2 + P3 + P4 + P5\n",
    "\n",
    "results = [iqae_run(K) for K in range(0, 4)]\n",
    "for r in results:\n",
    "    print(f\"K={r['K']} | approx E={r['approx_energy']:.4f} | error={r['energy_error']:.4f} | fidelity={r['fidelity']:.4f} | dim={r['dim_reduced']}\")"
   ]
  },
  {
   "cell_type": "code",
   "execution_count": null,
   "id": "e0c4936d",
   "metadata": {},
   "outputs": [],
   "source": [
    "J = -1\n",
    "Z1Z2 = tensor(Z,Z,I,I,I)"
   ]
  }
 ],
 "metadata": {
  "kernelspec": {
   "display_name": "Python 3",
   "language": "python",
   "name": "python3"
  },
  "language_info": {
   "codemirror_mode": {
    "name": "ipython",
    "version": 3
   },
   "file_extension": ".py",
   "mimetype": "text/x-python",
   "name": "python",
   "nbconvert_exporter": "python",
   "pygments_lexer": "ipython3",
   "version": "3.10.11"
  }
 },
 "nbformat": 4,
 "nbformat_minor": 5
}
