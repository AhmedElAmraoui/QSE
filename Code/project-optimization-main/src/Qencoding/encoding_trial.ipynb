{
 "cells": [
  {
   "cell_type": "code",
   "execution_count": 1,
   "metadata": {},
   "outputs": [],
   "source": [
    "from qiskit import QuantumCircuit, Aer, transpile \n",
    "import numpy as np "
   ]
  },
  {
   "cell_type": "code",
   "execution_count": 18,
   "metadata": {},
   "outputs": [
    {
     "data": {
      "text/html": [
       "<pre style=\"word-wrap: normal;white-space: pre;background: #fff0;line-height: 1.1;font-family: &quot;Courier New&quot;,Courier,monospace\">     ┌───────────┐\n",
       "q_0: ┤0          ├\n",
       "     │  Rxx(π/3) │\n",
       "q_1: ┤1          ├\n",
       "     └───────────┘</pre>"
      ],
      "text/plain": [
       "     ┌───────────┐\n",
       "q_0: ┤0          ├\n",
       "     │  Rxx(π/3) │\n",
       "q_1: ┤1          ├\n",
       "     └───────────┘"
      ]
     },
     "execution_count": 18,
     "metadata": {},
     "output_type": "execute_result"
    }
   ],
   "source": [
    "from qiskit.circuit.library import GMS, TwoLocal\n",
    "#from qiskit.visualization.library import _generate_circuit_library_visualization\n",
    "\n",
    "import numpy as np\n",
    "circuit = GMS(num_qubits=2, theta=[[0, np.pi/4, np.pi/8],\n",
    "                                          [0, 0, np.pi/2],\n",
    "                                          [0, np.pi/3, 0]])\n",
    "\n",
    "\n",
    "circuit = GMS(num_qubits=2, theta=[[0,np.pi/3]])                                        \n",
    "#_generate_circuit_library_visualization(circuit.decompose())\n",
    "circuit.decompose().draw()"
   ]
  },
  {
   "cell_type": "code",
   "execution_count": 62,
   "metadata": {},
   "outputs": [
    {
     "name": "stdout",
     "output_type": "stream",
     "text": [
      "     ┌──────────┐┌──────────┐ ░       ░  ┌──────────┐┌───────────┐\n",
      "q_0: ┤ Rx(θ[0]) ├┤ Rz(θ[4]) ├─░───■───░──┤ Rx(θ[8]) ├┤ Rz(θ[12]) ├\n",
      "     ├──────────┤├──────────┤ ░ ┌─┴─┐ ░  ├──────────┤├───────────┤\n",
      "q_1: ┤ Rx(θ[1]) ├┤ Rz(θ[5]) ├─░─┤ X ├─░──┤ Rx(θ[9]) ├┤ Rz(θ[13]) ├\n",
      "     ├──────────┤├──────────┤ ░ └───┘ ░ ┌┴──────────┤├───────────┤\n",
      "q_2: ┤ Rx(θ[2]) ├┤ Rz(θ[6]) ├─░───■───░─┤ Rx(θ[10]) ├┤ Rz(θ[14]) ├\n",
      "     ├──────────┤├──────────┤ ░ ┌─┴─┐ ░ ├───────────┤├───────────┤\n",
      "q_3: ┤ Rx(θ[3]) ├┤ Rz(θ[7]) ├─░─┤ X ├─░─┤ Rx(θ[11]) ├┤ Rz(θ[15]) ├\n",
      "     └──────────┘└──────────┘ ░ └───┘ ░ └───────────┘└───────────┘\n",
      "     ┌─────────┐\n",
      "q_0: ┤ Rz(π/4) ├\n",
      "     ├─────────┤\n",
      "q_1: ┤ Rz(π/4) ├\n",
      "     ├─────────┤\n",
      "q_2: ┤ Rz(π/4) ├\n",
      "     ├─────────┤\n",
      "q_3: ┤ Rz(π/4) ├\n",
      "     └─────────┘\n",
      "     »\n",
      "q_0: »\n",
      "     »\n",
      "q_1: »\n",
      "     »\n",
      "q_2: »\n",
      "     »\n",
      "q_3: »\n",
      "     »\n",
      "«     ┌──────────────────────────────────────────────────────────────────────────────────────────────────┐\n",
      "«q_0: ┤0                                                                                                 ├\n",
      "«     │                                                                                                  │\n",
      "«q_1: ┤1                                                                                                 ├\n",
      "«     │  TwoLocal(θ[0],θ[1],θ[2],θ[3],θ[4],θ[5],θ[6],θ[7],θ[8],θ[9],θ[10],θ[11],θ[12],θ[13],θ[14],θ[15]) │\n",
      "«q_2: ┤2                                                                                                 ├\n",
      "«     │                                                                                                  │\n",
      "«q_3: ┤3                                                                                                 ├\n",
      "«     └──────────────────────────────────────────────────────────────────────────────────────────────────┘\n",
      "     ┌──────────┐┌──────────┐ ░       ░  ┌──────────┐┌───────────┐\n",
      "q_0: ┤ Rx(θ[0]) ├┤ Rz(θ[4]) ├─░───■───░──┤ Rx(θ[8]) ├┤ Rz(θ[12]) ├\n",
      "     ├──────────┤├──────────┤ ░ ┌─┴─┐ ░  ├──────────┤├───────────┤\n",
      "q_1: ┤ Rx(θ[1]) ├┤ Rz(θ[5]) ├─░─┤ X ├─░──┤ Rx(θ[9]) ├┤ Rz(θ[13]) ├\n",
      "     ├──────────┤├──────────┤ ░ └───┘ ░ ┌┴──────────┤├───────────┤\n",
      "q_2: ┤ Rx(θ[2]) ├┤ Rz(θ[6]) ├─░───■───░─┤ Rx(θ[10]) ├┤ Rz(θ[14]) ├\n",
      "     ├──────────┤├──────────┤ ░ ┌─┴─┐ ░ ├───────────┤├───────────┤\n",
      "q_3: ┤ Rx(θ[3]) ├┤ Rz(θ[7]) ├─░─┤ X ├─░─┤ Rx(θ[11]) ├┤ Rz(θ[15]) ├\n",
      "     └──────────┘└──────────┘ ░ └───┘ ░ └───────────┘└───────────┘\n"
     ]
    }
   ],
   "source": [
    "entangler_map_1 = [[0, 1], [2, 3]]\n",
    "entangler_map_2 = [[ 1,2]]\n",
    "entangler_map = [entangler_map_1,entangler_map_2]\n",
    "two = TwoLocal(4, ['rx','rz'], ['cx'], entangler_map_1, reps=1, insert_barriers=True)\n",
    "qc = QuantumCircuit(4)\n",
    "qc &= two\n",
    "print(qc.decompose().draw())\n",
    "circ = QuantumCircuit(4)\n",
    "circ.rz(np.pi/4,range(4))\n",
    "print(circ)\n",
    "qc.compose(circ)\n",
    "print(qc)\n",
    "print(qc.decompose().draw())"
   ]
  },
  {
   "cell_type": "code",
   "execution_count": 93,
   "metadata": {},
   "outputs": [
    {
     "name": "stdout",
     "output_type": "stream",
     "text": [
      "12\n",
      "[0, 1, 2, 3]\n"
     ]
    },
    {
     "data": {
      "text/plain": [
       "[8, 9, 10, 11]"
      ]
     },
     "execution_count": 93,
     "metadata": {},
     "output_type": "execute_result"
    }
   ],
   "source": [
    "print(3*qc.num_qubits)\n",
    "l= [i for i in range(3*qc.num_qubits)]\n",
    "l\n",
    "print(l[:qc.num_qubits])\n",
    "l[qc.num_qubits:len(l)-qc.num_qubits]\n",
    "l[-qc.num_qubits:]"
   ]
  },
  {
   "cell_type": "code",
   "execution_count": 70,
   "metadata": {},
   "outputs": [
    {
     "name": "stdout",
     "output_type": "stream",
     "text": [
      "0\n",
      "1\n",
      "2\n",
      "3\n"
     ]
    }
   ],
   "source": [
    "for i in range(qc.num_qubits):\n",
    "    print(i)"
   ]
  },
  {
   "cell_type": "code",
   "execution_count": 97,
   "metadata": {},
   "outputs": [
    {
     "data": {
      "text/plain": [
       "[Parameter(theta_0),\n",
       " Parameter(theta_1),\n",
       " Parameter(theta_2),\n",
       " Parameter(theta_3),\n",
       " Parameter(theta_4),\n",
       " Parameter(theta_5)]"
      ]
     },
     "execution_count": 97,
     "metadata": {},
     "output_type": "execute_result"
    }
   ],
   "source": [
    "from qiskit.circuit import Parameter\n",
    "\n",
    "num_qubits = 3\n",
    "# Create parameters for single-qubit rotations\n",
    "params = [Parameter(f\"theta_{i}\")for i in range(2*num_qubits)]\n",
    "\n",
    "params"
   ]
  },
  {
   "cell_type": "code",
   "execution_count": 98,
   "metadata": {},
   "outputs": [],
   "source": [
    "def bonds_without_native_connectivity(qc: QuantumCircuit):\n",
    "    even_bonds = []\n",
    "    odd_bonds = []\n",
    "\n",
    "    for i in range(qc.num_qubits - 1):\n",
    "        if i % 2 == 0:\n",
    "            even_bonds.append((i, i + 1))\n",
    "        else:\n",
    "            odd_bonds.append((i, i + 1))\n",
    "    return even_bonds, odd_bonds"
   ]
  },
  {
   "cell_type": "code",
   "execution_count": 112,
   "metadata": {},
   "outputs": [
    {
     "name": "stdout",
     "output_type": "stream",
     "text": [
      "[Parameter(theta0), Parameter(theta1), Parameter(theta2), Parameter(theta3), Parameter(theta4), Parameter(theta5), Parameter(theta6), Parameter(theta7), Parameter(theta8), Parameter(theta9), Parameter(theta10), Parameter(theta11)]\n"
     ]
    },
    {
     "data": {
      "text/plain": [
       "[Parameter(theta12), Parameter(theta13), Parameter(theta14)]"
      ]
     },
     "execution_count": 112,
     "metadata": {},
     "output_type": "execute_result"
    }
   ],
   "source": [
    "qc = QuantumCircuit(4)\n",
    "even_bonds, odd_bonds = bonds_without_native_connectivity(qc)\n",
    "one_layer = (3*qc.num_qubits+len(even_bonds)+len(odd_bonds))\n",
    "parameters = [Parameter(f'theta{i}')for i in range(2*one_layer)] \n",
    "print(parameters[0:3*qc.num_qubits])\n",
    "parameters[len(parameters[:3*qc.num_qubits]):one_layer]"
   ]
  },
  {
   "cell_type": "code",
   "execution_count": 116,
   "metadata": {},
   "outputs": [
    {
     "name": "stdout",
     "output_type": "stream",
     "text": [
      "[1, 2]\n",
      "[3, 4]\n",
      "[5, 6]\n"
     ]
    }
   ],
   "source": [
    "ll = [1,2,3,4,5,6]\n",
    "\n",
    "for i in range(3):\n",
    "    print(ll[i*2:(i+1)*2])"
   ]
  },
  {
   "cell_type": "markdown",
   "metadata": {},
   "source": [
    "## Mapping variables into pauli string encoding\n",
    "\n",
    "lets say I have \n",
    "num_variables = m = number of Pauli strings  and \n",
    "k =2 chosen \n",
    "encoding is 3*nCk\n",
    "for example 9 variables are encoded in 9 pauli strings \n",
    "x1 --> IXX (210)\n",
    "x2 --> XXI\n",
    "x3 --> XIX\n",
    "x4 --> IYY\n",
    ".\n",
    ".\n",
    ".\n",
    "so on\n",
    "1. so take the array of clauses in dense form and map it encoding \n",
    "2. one can think of efficient hardware mapping considering the pauli encoding is not local, i.e., two variables connected in clause may not be n.n. on the deviceS"
   ]
  },
  {
   "cell_type": "code",
   "execution_count": 1,
   "metadata": {},
   "outputs": [
    {
     "name": "stdout",
     "output_type": "stream",
     "text": [
      "Unique permutations of 'IIXX':\n",
      "IIXX\n",
      "IXIX\n",
      "IXXI\n",
      "XIIX\n",
      "XIXI\n",
      "XXII\n"
     ]
    }
   ],
   "source": [
    "from itertools import permutations\n",
    "\n",
    "def unique_permutations(s):\n",
    "    # Generate all permutations of the string\n",
    "    perm_set = set(permutations(s))\n",
    "    \n",
    "    # Convert each tuple back to a string\n",
    "    perm_list = [''.join(p) for p in perm_set]\n",
    "    \n",
    "    # Sort the list if you want them in a specific order\n",
    "    perm_list.sort()\n",
    "    return perm_list\n",
    "\n",
    "# Test the function\n",
    "string = \"IIXX\"\n",
    "result = unique_permutations(string)\n",
    "print(\"Unique permutations of '{}':\".format(string))\n",
    "for perm in result:\n",
    "    print(perm)\n"
   ]
  },
  {
   "cell_type": "code",
   "execution_count": 2,
   "metadata": {},
   "outputs": [
    {
     "data": {
      "text/plain": [
       "{0: 'IXX', 1: 'XIX', 2: 'XXI', 3: 'IYY', 4: 'YIY', 5: 'YYI'}"
      ]
     },
     "execution_count": 2,
     "metadata": {},
     "output_type": "execute_result"
    }
   ],
   "source": [
    "def generate_Pauli_correlation_encoding(num_variables = 18,num_encoded_qubits =4, k=2):\n",
    "    l = []\n",
    "    dic = {}\n",
    "    for pauli in ['X','Y','Z']:\n",
    "        encoded_pauli_strings = unique_permutations(\"I\"*(num_encoded_qubits-k)+k*pauli)\n",
    "        l+=encoded_pauli_strings\n",
    "    \n",
    "    for i,j in zip(range(num_variables),l):\n",
    "        dic[i] = j\n",
    "        \n",
    "    return l,dic\n",
    "        \n",
    "_,dic = generate_Pauli_correlation_encoding(num_variables=6,num_encoded_qubits=3, k=2)\n",
    "dic"
   ]
  },
  {
   "cell_type": "code",
   "execution_count": 3,
   "metadata": {},
   "outputs": [
    {
     "name": "stdout",
     "output_type": "stream",
     "text": [
      "[2, 1, 0]\n",
      "1\n",
      "-1\n",
      "1\n"
     ]
    },
    {
     "data": {
      "text/plain": [
       "1.0"
      ]
     },
     "execution_count": 3,
     "metadata": {},
     "output_type": "execute_result"
    }
   ],
   "source": [
    "#counts = {'0011':10}\n",
    "#total_shots = 10\n",
    "def pauli_strings_meas(pauli_meas: str, pauli_str:str, counts: dict):\n",
    "    \n",
    "    idx_meas_bits = [len(pauli_str)-1-i for i,c in enumerate(pauli_str) if c==pauli_meas]\n",
    "    print(idx_meas_bits)\n",
    "    pauli_str_expt_val = 1\n",
    "    for meas_bit, meas_count in counts.items():\n",
    "        for i in idx_meas_bits:\n",
    "            pauli_str_expt_val*=(-1)**int(meas_bit[len(pauli_str)-1- i])\n",
    "            print(pauli_str_expt_val)\n",
    "        pauli_str_expt_val = pauli_str_expt_val*meas_count\n",
    "    \n",
    "    return pauli_str_expt_val/total_shots\n",
    "pauli_strings_meas(pauli_meas= 'X',pauli_str='IXXX',counts=counts)"
   ]
  },
  {
   "cell_type": "code",
   "execution_count": 4,
   "metadata": {},
   "outputs": [],
   "source": [
    "#counts = {'0011': 10,'1001':20}\n",
    "#total_shots = 30\n",
    "\n",
    "def pauli_strings_meas(pauli_meas: str, pauli_str: str, counts: dict) -> float:\n",
    "    # Find indices of the pauli_meas in pauli_str in reverse order\n",
    "    idx_meas_bits = [len(pauli_str) - 1 - i for i, c in enumerate(pauli_str) if c == pauli_meas]\n",
    "    #print(\"Measurement bit indices:\", idx_meas_bits)\n",
    "    \n",
    "    # Initialize expectation value accumulator\n",
    "    pauli_str_expt_val = 0\n",
    "\n",
    "    # Loop over each measured bitstring and count\n",
    "    for meas_bit, meas_count in counts.items():\n",
    "        # Calculate the contribution of this measurement bitstring\n",
    "        bitstring_val = 1\n",
    "        for i in idx_meas_bits:\n",
    "            bitstring_val *= (-1) ** int(meas_bit[len(pauli_str) - 1 - i])\n",
    "        pauli_str_expt_val += bitstring_val * meas_count\n",
    "        # print(f\"Intermediate expectation value for {meas_bit}: {bitstring_val * meas_count}\")\n",
    "\n",
    "    # Normalize by the total number of shots\n",
    "    return pauli_str_expt_val /shots\n",
    "\n",
    "# Example usage\n",
    "# result = pauli_strings_meas(pauli_meas='X', pauli_str='IXXX', counts=counts)\n",
    "# print(\"Final expectation value:\", result)\n"
   ]
  },
  {
   "cell_type": "code",
   "execution_count": null,
   "metadata": {},
   "outputs": [],
   "source": [
    "# Collect the signs of the expectation as the variables using var-> string mapping\n",
    "\n",
    "# make the loss function first and set up the VQA program for parameter optimization"
   ]
  },
  {
   "cell_type": "code",
   "execution_count": 20,
   "metadata": {},
   "outputs": [
    {
     "name": "stdout",
     "output_type": "stream",
     "text": [
      "initial parameters:  [2.09503276 1.09907643 2.21382433 2.39091459 1.68819553 2.24041624\n",
      " 0.62847063 2.90611931 1.6414933  1.07409113 0.83156127 0.6940304\n",
      " 0.37586851 1.73841044 2.74458488 2.63118514 0.82251434 2.13986763\n",
      " 0.50054394]\n",
      "     ┌───────────┐  ┌────────────┐                          ┌────────────┐»\n",
      "q_0: ┤ Rx(2.095) ├──┤ Rz(1.6882) ├──■───────────────────■───┤ Rx(1.6415) ├»\n",
      "     ├───────────┴┐ ├────────────┤┌─┴─┐┌─────────────┐┌─┴─┐ ├────────────┤»\n",
      "q_1: ┤ Rx(1.0991) ├─┤ Rz(2.2404) ├┤ X ├┤ Rz(0.82251) ├┤ X ├─┤ Rx(1.0741) ├»\n",
      "     ├────────────┤┌┴────────────┤└───┘└─────────────┘└───┘┌┴────────────┤»\n",
      "q_2: ┤ Rx(2.2138) ├┤ Rz(0.62847) ├──■───────────────────■──┤ Rx(0.83156) ├»\n",
      "     ├────────────┤└┬────────────┤┌─┴─┐ ┌────────────┐┌─┴─┐├─────────────┤»\n",
      "q_3: ┤ Rx(2.3909) ├─┤ Rz(2.9061) ├┤ X ├─┤ Rz(2.1399) ├┤ X ├┤ Rx(0.69403) ├»\n",
      "     └────────────┘ └────────────┘└───┘ └────────────┘└───┘└─────────────┘»\n",
      "«     ┌─────────────┐                          ░ \n",
      "«q_0: ┤ Rz(0.37587) ├──────────────────────────░─\n",
      "«     └┬────────────┤                          ░ \n",
      "«q_1: ─┤ Rz(1.7384) ├──■───────────────────■───░─\n",
      "«      ├────────────┤┌─┴─┐┌─────────────┐┌─┴─┐ ░ \n",
      "«q_2: ─┤ Rz(2.7446) ├┤ X ├┤ Rz(0.50054) ├┤ X ├─░─\n",
      "«      ├────────────┤└───┘└─────────────┘└───┘ ░ \n",
      "«q_3: ─┤ Rz(2.6312) ├──────────────────────────░─\n",
      "«      └────────────┘                          ░ \n",
      "{'245': -1, '014': -1, '034': 1, '013': 1, '123': -1, '015': -1, '025': -1, '012': -1}\n",
      "{0: 'IXX', 1: 'XIX', 2: 'XXI', 3: 'IYY', 4: 'YIY', 5: 'YYI'}\n"
     ]
    }
   ],
   "source": [
    "import sys \n",
    "sys.path.append('/Users/prachisharma/Dropbox/Github_projects/project-optimization/src')\n",
    "sys.path.append('/Users/prachisharma/Dropbox/Github_projects/project-optimization/src/Qencoding')\n",
    "from utils import *\n",
    "from pauli_string_encoding import *\n",
    "xor_prob =   (np.array([[2, 4, 5],\n",
    "       [0, 1, 4],\n",
    "       [0, 3, 4],\n",
    "       [0, 1, 3],\n",
    "       [1, 2, 3],\n",
    "       [0, 1, 5],\n",
    "      [0, 2, 5],[0, 1, 2]]),\n",
    " np.array([1, 1, 0, 0, 1, 1, 1, 1]))\n",
    "#counts = {'011': 10,'001':20}\n",
    "total_shots = 30\n",
    "xorsat_hamiltonian = mapping_XORSAT_to_Hamiltonian(xor_prob)\n",
    "print(xorsat_hamiltonian)\n",
    "print(dic)"
   ]
  },
  {
   "cell_type": "code",
   "execution_count": 22,
   "metadata": {},
   "outputs": [],
   "source": [
    "def energy_pauli_str_encoding(xorsat_hamiltonian: Dict[str, int], pauli_str_var_encoding: Dict[int,str], counts={}):\n",
    "    alpha = 1\n",
    "    clause_encoding = []\n",
    "    for clause_key, _ in xorsat_hamiltonian.items():\n",
    "        clause_encoding.append([pauli_str_var_encoding[int(i)] for i in clause_key])\n",
    "    total_energy =0\n",
    "    for encoded_clause in clause_encoding:\n",
    "        energy_encoded_clause = 1\n",
    "        for clause in encoded_clause:\n",
    "            if 'X' in clause:\n",
    "                print(np.tanh(pauli_strings_meas(pauli_meas='X',pauli_str=clause,counts=counts)))\n",
    "                energy_encoded_clause*=np.tanh(alpha*pauli_strings_meas(pauli_meas='X',pauli_str=clause,counts=counts))#counts_X))\n",
    "            elif 'Y' in clause:\n",
    "                energy_encoded_clause*=np.tanh(alpha*pauli_strings_meas(pauli_meas='Y',pauli_str=clause,counts=counts))\n",
    "            else:\n",
    "                energy_encoded_clause*=np.tanh(alpha*pauli_strings_meas(pauli_meas='Z',pauli_str=clause,counts=counts))\n",
    "        total_energy+=energy_encoded_clause\n",
    "    \n",
    "    return total_energy\n",
    "\n",
    "\n",
    "# energy_pauli_str_encoding(xorsat_hamiltonian=xorsat_hamiltonian, pauli_str_var_encoding = dic, counts=counts)"
   ]
  },
  {
   "cell_type": "code",
   "execution_count": null,
   "metadata": {},
   "outputs": [],
   "source": [
    "# add optimization fucntion to the above cost function \n",
    "# reverse mapping from the final pauli strings to variables \n",
    "\n",
    "from qiskit.providers.fake_provider import FakeNairobiV2\n",
    "from qiskit_aer import StatevectorSimulator\n",
    "\n",
    "from typing import Dict, List, Tuple, Callable\n",
    "from scipy.optimize import minimize\n",
    "\n",
    "def get_black_box_objective_with_cost(\n",
    "    num_variables: int,\n",
    "    xorsat_hamiltonian: Dict[str, float],\n",
    "    cost_function: Callable[[Dict[str, int]], float],\n",
    "    backend=FakeNairobiV2(), \n",
    "    shots: int = 1024,  # Default number of shots for circuit execution\n",
    ") -> Callable[[List[float]], float]:\n",
    "\n",
    "    def objective_function(theta: List[float]) -> float:\n",
    "\n",
    "        qc = brickwall_circuit(k = 2, num_variables= 16,parameters = theta)\n",
    "        #qc.measure_all()\n",
    "        # Execute the circuit on the specified backend\n",
    "        counts = backend.run(transpile(qc), shots=shots).result().get_counts()\n",
    "\n",
    "        # Compute the energy using the specified cost function\n",
    "        energy = energy_pauli_str_encoding(xorsat_hamiltonian = xorsat_hamiltonian,pauli_str_var_encoding = dic, counts=counts)\n",
    "        print(\"Computed Energy:\", energy)  # Optional logging for debugging\n",
    "\n",
    "        # to plot the cost function with number of iterations \n",
    "        # obj_cost.append(energy)\n",
    "        return energy\n",
    "\n",
    "    return objective_function\n",
    "\n",
    "shots = 1024\n",
    "backend = FakeNairobiV2()\n",
    "sv_backend = StatevectorSimulator() \n",
    "num_variables = 6\n",
    "cost_function = energy_pauli_str_encoding\n",
    "initial_params = np.random.uniform(0,np.pi,(4*4+2+1))\n",
    "obj_function = get_black_box_objective_with_cost(num_variables, xorsat_hamiltonian, cost_function, backend, shots)\n",
    "    # Run the optimizer (COBYLA method : can be done using others)\n",
    "res_sample = minimize(obj_function, initial_params, method='COBYLA', options={'maxiter':5000,'disp': True})"
   ]
  },
  {
   "cell_type": "markdown",
   "metadata": {},
   "source": [
    "Need to do statevector simulator calculations since the circuit in this are smaller and can "
   ]
  },
  {
   "cell_type": "code",
   "execution_count": null,
   "metadata": {},
   "outputs": [],
   "source": []
  },
  {
   "cell_type": "code",
   "execution_count": null,
   "metadata": {},
   "outputs": [],
   "source": []
  }
 ],
 "metadata": {
  "kernelspec": {
   "display_name": "psharma_piqae",
   "language": "python",
   "name": "python3"
  },
  "language_info": {
   "codemirror_mode": {
    "name": "ipython",
    "version": 3
   },
   "file_extension": ".py",
   "mimetype": "text/x-python",
   "name": "python",
   "nbconvert_exporter": "python",
   "pygments_lexer": "ipython3",
   "version": "3.11.9"
  }
 },
 "nbformat": 4,
 "nbformat_minor": 2
}
