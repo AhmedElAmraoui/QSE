{
 "cells": [
  {
   "cell_type": "markdown",
   "metadata": {},
   "source": [
    "## Tutorial notebook to explain the Pauli noise tomography for a two-qubit example with a custom noise model "
   ]
  },
  {
   "cell_type": "markdown",
   "metadata": {},
   "source": [
    "The code is build on the recent version (see below) of qiskit at the time. "
   ]
  },
  {
   "cell_type": "code",
   "execution_count": 22,
   "metadata": {},
   "outputs": [
    {
     "data": {
      "text/plain": [
       "'1.3.1'"
      ]
     },
     "execution_count": 22,
     "metadata": {},
     "output_type": "execute_result"
    }
   ],
   "source": [
    "import qiskit \n",
    "qiskit.__version__"
   ]
  },
  {
   "cell_type": "code",
   "execution_count": 23,
   "metadata": {},
   "outputs": [],
   "source": [
    "#Qiskit imports\n",
    "from qiskit import QuantumCircuit, transpile\n",
    "from qiskit.visualization import plot_gate_map, plot_error_map\n",
    "from qiskit.circuit import QuantumRegister\n",
    "from qiskit.quantum_info import Pauli, pauli_basis, SuperOp, PTM, Operator\n",
    "#from qiskit.providers.aer.noise import NoiseModel, pauli_error\n",
    "from qiskit_aer.noise import (NoiseModel, QuantumError, ReadoutError,\n",
    "    pauli_error, depolarizing_error, thermal_relaxation_error)\n",
    "#from qiskit.providers.fake_provider import FakeVigoV2\n",
    "from qiskit.providers.fake_provider import GenericBackendV2\n",
    "from qiskit_aer import Aer, AerSimulator,QasmSimulator\n",
    "from random import random\n",
    "from qiskit.transpiler import CouplingMap\n",
    "#python imports\n",
    "from random import choice, choices\n",
    "from itertools import product, permutations, cycle\n",
    "from scipy.optimize import curve_fit, nnls\n",
    "from matplotlib import pyplot as plt\n",
    "import numpy as np\n",
    "\n",
    "plt.style.use(\"ggplot\")"
   ]
  },
  {
   "cell_type": "code",
   "execution_count": 24,
   "metadata": {},
   "outputs": [
    {
     "data": {
      "text/html": [
       "<pre style=\"word-wrap: normal;white-space: pre;background: #fff0;line-height: 1.1;font-family: &quot;Courier New&quot;,Courier,monospace\">          \n",
       "q_0: ──■──\n",
       "     ┌─┴─┐\n",
       "q_1: ┤ X ├\n",
       "     └───┘</pre>"
      ],
      "text/plain": [
       "          \n",
       "q_0: ──■──\n",
       "     ┌─┴─┐\n",
       "q_1: ┤ X ├\n",
       "     └───┘"
      ]
     },
     "execution_count": 24,
     "metadata": {},
     "output_type": "execute_result"
    }
   ],
   "source": [
    "inst_map = [0,1,2,3]\n",
    "n = len(inst_map)\n",
    "\n",
    "layer = QuantumCircuit(2)\n",
    "\n",
    "layer.cx(0,1)\n",
    "\n",
    "layer.draw()"
   ]
  },
  {
   "cell_type": "markdown",
   "metadata": {},
   "source": [
    "Here we define an Generic backend in qiskit with our desired coupling. For a two-qubit example: it is simply a bidirected coupling as defined below. "
   ]
  },
  {
   "cell_type": "code",
   "execution_count": 25,
   "metadata": {},
   "outputs": [],
   "source": [
    "coupling_list = [(0, 1), (1, 0), (1, 2), (2, 1), (1, 3), (3, 1), (2, 3), (3, 2)]\n",
    "backend = GenericBackendV2(num_qubits=4, coupling_map=coupling_list)\n",
    "connectivity = backend.coupling_map.graph.subgraph(inst_map)"
   ]
  },
  {
   "cell_type": "markdown",
   "metadata": {},
   "source": [
    "As an example to explain the 9 measurement basis: we consider the following coupling of the qubit on the backend. Here, the 0th qubit has no predecessor and 1,2 qubits each has only one predecessor, where as the 3 qubit has two predecessor as it coupled to both 1 and 2 qubits. Please note that we need only the predecessors tp determine these basis and not the all coupling. For example: qubit 1 is connected to both 2 and 3 but both are successors.  "
   ]
  },
  {
   "cell_type": "code",
   "execution_count": 26,
   "metadata": {},
   "outputs": [
    {
     "data": {
      "image/png": "[encoded data removed]",
      "text/plain": [
       "<PIL.PngImagePlugin.PngImageFile image mode=RGBA size=269x154>"
      ]
     },
     "execution_count": 26,
     "metadata": {},
     "output_type": "execute_result"
    }
   ],
   "source": [
    "qiskit.transpiler.CouplingMap(couplinglist=coupling_list).draw()\n"
   ]
  },
  {
   "cell_type": "markdown",
   "metadata": {},
   "source": [
    "Now, we take the 9 measurement basis needed to determine the sparse pauli lindblad model as described in IBM's paper. \n",
    "\n",
    "Let's first provide an explanation of why one needs only 9 measurement basis to determine the Pauli Noise model \n",
    " "
   ]
  },
  {
   "cell_type": "code",
   "execution_count": 27,
   "metadata": {},
   "outputs": [],
   "source": [
    "NUM_BASES = 9\n",
    "def meas_bases():\n",
    "    bases = [['I']*n for i in range(NUM_BASES)]\n",
    "\n",
    "    for vertex in range(n):\n",
    "\n",
    "        children = connectivity.neighbors(vertex)\n",
    "        predecessors = [c for c in children if c < vertex]\n",
    "\n",
    "        match len(predecessors):\n",
    "            #trivial if no predecessors\n",
    "            case 0:            \n",
    "                cycp = cycle(\"XYZ\")\n",
    "                \n",
    "                for i,_ in enumerate(bases):\n",
    "                    bases[i][vertex] = next(cycp)\n",
    "\n",
    "            #Choose p1:\"XXXYYYZZZ\" and p2:\"XYZXYZXYZ\" if one predecessor\n",
    "            case 1:\n",
    "                pred, = predecessors\n",
    "                #store permutation of indices so that predecessor has X,X,X,Y,Y,Y,Z,Z,Z\n",
    "                _,bases = list(zip(*sorted(zip([p[pred] for p in bases], bases))))\n",
    "                cycp = cycle(\"XYZ\")\n",
    "\n",
    "                for i,_ in enumerate(bases):\n",
    "                    bases[i][vertex] = next(cycp)\n",
    "\n",
    "            case 2:\n",
    "                pred0,pred1 = sorted(predecessors)\n",
    "                #store permutation of indices so that first predecessor has X,X,X,Y,Y,Y,Z,Z,Z\n",
    "                _,bases = list(zip(*sorted(zip([p[pred0] for p in bases], bases))))\n",
    "                #ordering of the vertex with two predecessor has X,Y,Z,Z,X,Y,Y,Z,X\n",
    "                order =  \"XYZZXYYZX\"\n",
    "                for i,_ in enumerate(bases):             \n",
    "                    bases[i][vertex] = order[i]\n",
    "                    \n",
    "            case _: #processor needs to have connectivity so that there are <= 2 predecessors\n",
    "                raise Exception(\"Three or more predecessors encountered\")\n",
    "    # the pauli basis in 0,1,2,3 indices are rearranged according the qiskit 3,2,1,0 indices notation.\n",
    "    bases = [Pauli(\"\".join(string[::-1])) for string in bases]\n",
    "\n",
    "    return bases"
   ]
  },
  {
   "cell_type": "code",
   "execution_count": 28,
   "metadata": {},
   "outputs": [
    {
     "data": {
      "text/plain": [
       "[Pauli('XXXX'),\n",
       " Pauli('YYXY'),\n",
       " Pauli('ZZXZ'),\n",
       " Pauli('ZXYX'),\n",
       " Pauli('XYYY'),\n",
       " Pauli('YZYZ'),\n",
       " Pauli('YXZX'),\n",
       " Pauli('ZYZY'),\n",
       " Pauli('XZZZ')]"
      ]
     },
     "execution_count": 28,
     "metadata": {},
     "output_type": "execute_result"
    }
   ],
   "source": [
    "bases = meas_bases()\n",
    "bases"
   ]
  },
  {
   "cell_type": "markdown",
   "metadata": {},
   "source": [
    "\n",
    "For just two qubits the 9 basis will simply be:\n",
    "\n",
    "`'XX', 'YY', 'ZZ', 'XX', 'YY', 'ZZ', 'XX', 'YY', 'ZZ'`\n",
    "\n",
    "The bases for more qubits can also be built using the above 9 basis and are built for 4 qubit system as following:\n",
    "\n",
    "`'XIII', 'YIII','ZIII','XIII','YIII','ZIII','XIII','YIII','ZIII'`\n",
    "Now the qubit 1 is connected to qubit 0 so we fill up first qubit index with all permutations of `'XYZ'` similar to a simple 2 qubit system but we first rearrange the list to have `'XIII'` terms first and then  `'YIII'` and followed by  `'ZIII'` to give \n",
    "\n",
    "`'XIII', 'XIII','XIII','YIII','YIII','YIII','ZIII','ZIII','ZIII'` $\\longrightarrow$  `'XXII', 'XYII','XZII','YXII','YYII','YZII','ZXII','ZYII','ZZII'`\n",
    "\n",
    "Now for the second qubit which has only one connected predecessor i.e. qubit 1, we repeat same logic by first rearranging the basis above in same manner, i.e., `-X--'`then `-Y--'` and then `-Z--'` and then complete filling the index 2 of the bases as follows:\n",
    "\n",
    " `'XXII', 'YXII','ZXII', 'XYII','YYII','ZYII','XZII','YZII','ZZII'`  $\\longrightarrow$   `'XXXI', 'YXYI','ZXZI', 'XYXI','YYYI','ZYZI','XZXI','YZYI','ZZZI'` \n",
    "\n",
    "Now the third qubit has two connected predecessors, i.e., qubit 1 and 2. Here the logic changes to find all the 9 pairs of basis needed to determine each connected pair, for example: it is `(1,3)` and`(2,3)` in our example.\n",
    "\n",
    "First sort the list of basis based on the predecessor qubit 1 and then fill the basis of qubit 3 by cycle permutting 'XYZ' to get pauli arrangement for all total 9 basis to be  `['XYZ', 'ZXY','YZX']` defined in the code in  combined string as `order = 'XYZZXYYZX'`. In this way we obtain all possible overall 9 basis by considering all 9 of length for each connected pair. \n",
    " Following the same procedure, we get \n",
    "\n",
    "`'XXXI', 'YXYI','ZXZI', 'XYXI','YYYI','ZYZI','XZXI','YZYI','ZZZI'`  $\\longrightarrow$  `'XXXX', 'YXYY', 'ZXZZ', 'XYXZ', 'YYYX', 'ZYZY', 'XZXY', 'YZYZ', 'ZZZX'`\n",
    "  \n",
    "One can assure that by following this we did include all the 9 pair basis for each connected pair of qubit 3.\n",
    " "
   ]
  },
  {
   "cell_type": "markdown",
   "metadata": {},
   "source": [
    "## Move back to only two qubits example"
   ]
  },
  {
   "cell_type": "code",
   "execution_count": 29,
   "metadata": {},
   "outputs": [
    {
     "name": "stdout",
     "output_type": "stream",
     "text": [
      "          \n",
      "q_0: ──■──\n",
      "     ┌─┴─┐\n",
      "q_1: ┤ X ├\n",
      "     └───┘\n"
     ]
    },
    {
     "data": {
      "text/plain": [
       "[Pauli('XX'),\n",
       " Pauli('YX'),\n",
       " Pauli('ZX'),\n",
       " Pauli('XY'),\n",
       " Pauli('YY'),\n",
       " Pauli('ZY'),\n",
       " Pauli('XZ'),\n",
       " Pauli('YZ'),\n",
       " Pauli('ZZ')]"
      ]
     },
     "execution_count": 29,
     "metadata": {},
     "output_type": "execute_result"
    }
   ],
   "source": [
    "inst_map = [0,1]\n",
    "n = len(inst_map)\n",
    "layer = QuantumCircuit(2)\n",
    "layer.cx(0,1)\n",
    "print(layer.draw())\n",
    "\n",
    "coupling_list = [(0, 1), (1, 0), (1, 2), (2, 1), (1, 3), (3, 1), (2, 3), (3, 2)]\n",
    "backend = GenericBackendV2(num_qubits=4, coupling_map=coupling_list)\n",
    "connectivity = backend.coupling_map.graph.subgraph(inst_map)\n",
    "\n",
    "bases = meas_bases()\n",
    "bases"
   ]
  },
  {
   "cell_type": "markdown",
   "metadata": {},
   "source": [
    "## Sparse model terms "
   ]
  },
  {
   "cell_type": "code",
   "execution_count": 30,
   "metadata": {},
   "outputs": [
    {
     "name": "stdout",
     "output_type": "stream",
     "text": [
      "Model terms: ['IX' 'IY' 'IZ' 'XI' 'XX' 'XY' 'XZ' 'YI' 'YX' 'YY' 'YZ' 'ZI' 'ZX' 'ZY'\n",
      " 'ZZ']\n",
      "Number of model terms: 15\n"
     ]
    }
   ],
   "source": [
    "model_terms = set()\n",
    "identity = Pauli(\"I\"*n)    \n",
    "#get all weight-two paulis on with suport on nieghboring qubits\n",
    "for q1,q2 in connectivity.edge_list():\n",
    "        for p1, p2 in pauli_basis(2, True):\n",
    "            pauli = identity.copy()\n",
    "            pauli[q1] = p1\n",
    "            pauli[q2] = p2\n",
    "            model_terms.add(pauli)\n",
    "\n",
    "model_terms.remove(identity)\n",
    "model_terms = (list(model_terms))\n",
    "print(\"Model terms:\", np.sort([m.to_label()[::-1] for m in model_terms]))\n",
    "print(f\"Number of model terms: {len(model_terms)}\")"
   ]
  },
  {
   "cell_type": "code",
   "execution_count": 31,
   "metadata": {},
   "outputs": [],
   "source": [
    "#remove the phase from a Pauli\n",
    "def nophase(pauli):\n",
    "    return Pauli((pauli.z, pauli.x))\n",
    "\n",
    "def conjugate(pauli):\n",
    "    \"\"\"It gives the Pdagger for noise twirling\"\"\"\n",
    "\n",
    "    return nophase(pauli.evolve(layer))"
   ]
  },
  {
   "cell_type": "code",
   "execution_count": 32,
   "metadata": {},
   "outputs": [],
   "source": [
    "def instance( \n",
    "    prep_basis : Pauli, \n",
    "    meas_basis : Pauli, \n",
    "    noise_repetitions : int, \n",
    "    transpiled=True):\n",
    "\n",
    "    circ = QuantumCircuit(n) #storing the final circuit\n",
    "\n",
    "    #get preparation ops from desired basis \n",
    "    def prep(basis, qubit, qc):\n",
    "        if basis.equiv(Pauli(\"X\")):\n",
    "            qc.h(qubit) \n",
    "        elif basis.equiv(Pauli(\"Y\")):\n",
    "            qc.h(qubit)\n",
    "            qc.s(qubit)\n",
    "\n",
    "    #apply operators to a quantum circuit to measure in desired pauli basis\n",
    "    def meas(basis, qubit, qc):\n",
    "        if basis.equiv(Pauli(\"X\")):\n",
    "            qc.h(qubit)\n",
    "        elif basis.equiv(Pauli(\"Y\")):\n",
    "            qc.sdg(qubit)\n",
    "            qc.h(qubit)\n",
    "\n",
    "\n",
    "    pauli_frame = Pauli(\"I\"*n)\n",
    "\n",
    "    #apply the prep operators to the circuit\n",
    "    for q,b in enumerate(prep_basis):\n",
    "        prep(b,q,circ)\n",
    "\n",
    "    #apply repetitions of noise, including basis-change gates when needed\n",
    "    for i in range(noise_repetitions):\n",
    "        circ = circ.compose(layer)\n",
    "        circ.barrier()\n",
    "\n",
    "\n",
    "    for q,b in enumerate(meas_basis):        \n",
    "        meas(b, q, circ)\n",
    "\n",
    "    circ.measure_all()\n",
    "\n",
    "    if transpiled:\n",
    "        circ = transpile(circ, backend, initial_layout=inst_map, optimization_level = 1)\n",
    "\n",
    "    circ.metadata = {\n",
    "        \"prep_basis\":prep_basis,\n",
    "            \"meas_basis\":meas_basis, \n",
    "            \"depth\":noise_repetitions\n",
    "            }\n",
    "\n",
    "    return circ "
   ]
  },
  {
   "cell_type": "markdown",
   "metadata": {},
   "source": [
    "example instance circuit"
   ]
  },
  {
   "cell_type": "code",
   "execution_count": 33,
   "metadata": {},
   "outputs": [
    {
     "data": {
      "text/html": [
       "<pre style=\"word-wrap: normal;white-space: pre;background: #fff0;line-height: 1.1;font-family: &quot;Courier New&quot;,Courier,monospace\">        ┌───┐      ░       ░ ┌─┐   \n",
       "   q_0: ┤ H ├──■───░───────░─┤M├───\n",
       "        └───┘┌─┴─┐ ░ ┌───┐ ░ └╥┘┌─┐\n",
       "   q_1: ─────┤ X ├─░─┤ H ├─░──╫─┤M├\n",
       "             └───┘ ░ └───┘ ░  ║ └╥┘\n",
       "meas: 2/══════════════════════╩══╩═\n",
       "                              0  1 </pre>"
      ],
      "text/plain": [
       "        ┌───┐      ░       ░ ┌─┐   \n",
       "   q_0: ┤ H ├──■───░───────░─┤M├───\n",
       "        └───┘┌─┴─┐ ░ ┌───┐ ░ └╥┘┌─┐\n",
       "   q_1: ─────┤ X ├─░─┤ H ├─░──╫─┤M├\n",
       "             └───┘ ░ └───┘ ░  ║ └╥┘\n",
       "meas: 2/══════════════════════╩══╩═\n",
       "                              0  1 "
      ]
     },
     "execution_count": 33,
     "metadata": {},
     "output_type": "execute_result"
    }
   ],
   "source": [
    "instance(Pauli(\"ZX\"), Pauli(\"XI\"),1,transpiled=False).draw()\n"
   ]
  },
  {
   "cell_type": "code",
   "execution_count": 34,
   "metadata": {},
   "outputs": [],
   "source": [
    "def get_expectation(pauli = Pauli('II'), counts ={}):\n",
    "        estimator = 0\n",
    "        counts = counts\n",
    "        pz = list(reversed([{Pauli(\"I\"):'0'}.get(p,'1') for p in pauli]))\n",
    "        #compute estimator\n",
    "        for key in counts.keys():\n",
    "            k = [i for i in key]            \n",
    "            #compute the overlap in the computational basis\n",
    "            sgn = sum([{('1','1'):1}.get((pauli_bit, key_bit), 0) for pauli_bit, key_bit in zip(pz, k)])\n",
    "            #update estimator\n",
    "            estimator += (-1)**sgn*counts[key]\n",
    "\n",
    "        return estimator/sum(counts.values())"
   ]
  },
  {
   "cell_type": "code",
   "execution_count": 35,
   "metadata": {},
   "outputs": [
    {
     "name": "stdout",
     "output_type": "stream",
     "text": [
      "[Pauli('XI'), Pauli('XZ'), Pauli('ZX'), Pauli('YZ')] [0.019094365474415353, 0.006376725643485542, 0.012385877177298525, 0.011237276619718455]\n"
     ]
    },
    {
     "data": {
      "text/plain": [
       "Text(0, 0.5, '(1-f)')"
      ]
     },
     "execution_count": 35,
     "metadata": {},
     "output_type": "execute_result"
    },
    {
     "data": {
      "image/png": "[encoded data removed]",
      "text/plain": [
       "<Figure size 640x480 with 1 Axes>"
      ]
     },
     "metadata": {},
     "output_type": "display_data"
    }
   ],
   "source": [
    "num = 4  #number of errors\n",
    "import random\n",
    "# for testing and reproducibility a random seed is taken \n",
    "random.seed(1)\n",
    "\n",
    "errorops = random.sample(list(pauli_basis(2, True)), num) #choose random pauli errors\n",
    "errorprobs = [random.random()*.1/num for op in errorops] #assign random probabilities\n",
    "# these will be reproduced by learning the noise model later\n",
    "print(errorops, errorprobs)\n",
    "#create normalized error model\n",
    "\n",
    "twoqubit_error = pauli_error([(op, p) for op,p in zip(errorops, errorprobs)]+[(Pauli(\"II\"), 1- sum(errorprobs))])\n",
    "\n",
    "#noise model for the AER simulators--custom model:--adding the list of the two qubit erros generated to the list of these gates ['cx','cz'] \n",
    "noise_model = NoiseModel()\n",
    "#add error model to two-qubit gates.\n",
    "noise_model.add_all_qubit_quantum_error(twoqubit_error, ['cx'])\n",
    "\n",
    "pauli_list = [pauli.to_label() for pauli in pauli_basis(2,  True)]\n",
    "real_errors_sort = {}\n",
    "# Pauli transfer matrices: basis of the matrix are in lexicographic order order. \n",
    "# Therefore, in order to read the elements of matrix, the pauli list has to be sorted\n",
    "transfer_matrix = PTM(twoqubit_error.to_quantumchannel()).data\n",
    "\n",
    "for i,pauli in enumerate(sorted(pauli_list)):\n",
    "    real_errors_sort[Pauli(pauli)] = transfer_matrix[i][i]\n",
    "    plt.bar(pauli, (1-transfer_matrix[i][i]).real, color=\"tab:blue\")\n",
    "\n",
    "\n",
    "plt.title(\"Random Pauli Infidelitites\")\n",
    "plt.xlabel(\"Pauli\")\n",
    "plt.ylabel(\"(1-f)\")"
   ]
  },
  {
   "cell_type": "code",
   "execution_count": 36,
   "metadata": {},
   "outputs": [],
   "source": [
    "# QASM simulator is considered, we will add the custom noise model to it for simulations\n",
    "sim = QasmSimulator()"
   ]
  },
  {
   "cell_type": "markdown",
   "metadata": {},
   "source": [
    "## Just to explain the maths: we will considered a simple noise-model with only one error"
   ]
  },
  {
   "cell_type": "code",
   "execution_count": 37,
   "metadata": {},
   "outputs": [
    {
     "name": "stdout",
     "output_type": "stream",
     "text": [
      "[Pauli('XX')] [0.02]\n"
     ]
    }
   ],
   "source": [
    "num = 1  #number of errors\n",
    "\n",
    "errorops = [Pauli(\"XX\")] \n",
    "errorprobs = [0.02] \n",
    "print(errorops, errorprobs)\n",
    "\n",
    "twoqubit_error = pauli_error([(op, p) for op,p in zip(errorops, errorprobs)]+[(Pauli(\"II\"), 1- sum(errorprobs))])\n",
    "#print(twoqubit_error)\n",
    "\n",
    "#noise model for the AER simulators--custom model:--adding the list of the two qubit erros generated to the list of these gates ['cx','cz'] \n",
    "noise_model = NoiseModel()\n",
    "#add error model to two-qubit gates.\n",
    "noise_model.add_all_qubit_quantum_error(twoqubit_error, ['cx'])"
   ]
  },
  {
   "cell_type": "code",
   "execution_count": 38,
   "metadata": {},
   "outputs": [
    {
     "data": {
      "text/plain": [
       "Text(0, 0.5, '(1-f)')"
      ]
     },
     "execution_count": 38,
     "metadata": {},
     "output_type": "execute_result"
    },
    {
     "data": {
      "image/png": "[encoded data removed]",
      "text/plain": [
       "<Figure size 640x480 with 1 Axes>"
      ]
     },
     "metadata": {},
     "output_type": "display_data"
    }
   ],
   "source": [
    "pauli_list = [pauli.to_label() for pauli in pauli_basis(2,  True) ]\n",
    "real_errors_sort = {}\n",
    "# Pauli transfer matrices \n",
    "transfer_matrix = PTM(twoqubit_error.to_quantumchannel()).data\n",
    "\n",
    "for i,pauli in enumerate(sorted(pauli_list)):\n",
    "    real_errors_sort[Pauli(pauli)] = transfer_matrix[i][i]\n",
    "    plt.bar(pauli, (1-transfer_matrix[i][i]).real, color=\"tab:blue\")\n",
    "\n",
    "\n",
    "# print(real_errors_sort)\n",
    "plt.title(\"Random Pauli Infidelitites\")\n",
    "plt.xlabel(\"Pauli\")\n",
    "plt.ylabel(\"(1-f)\")"
   ]
  },
  {
   "cell_type": "markdown",
   "metadata": {},
   "source": [
    "For a simple case of $n=2$ and for the case of Pauli $\\mathrm{IY}$ \n",
    "\\begin{align}\n",
    "\\Lambda(P_a) &= \\sum_i c_i P_i^\\dagger (P_a) P_i  \\\\\n",
    "\\Lambda(\\mathrm{IY}) &= 0.02 \\times\\mathrm{XX} (\\mathrm{IY}) \\mathrm{XX} + 0.98 \\times\\mathrm{IY}  \\\\\n",
    "\\Lambda(\\mathrm{IY}) &= -0.02\\times\\mathrm{IY} + 0.98 \\times\\mathrm{IY} = 0.96 \\times \\mathrm{IY}  \\\\\n",
    "\\end{align}\n",
    "and for say $\\mathrm{ZZ} $\n",
    "\n",
    "\\begin{align}\n",
    "\\Lambda(\\mathrm{ZZ}) &= 0.02 \\times\\mathrm{XX} (\\mathrm{ZZ}) \\mathrm{XX} + 0.98 \\times\\mathrm{ZZ}  \\\\\n",
    "\\Lambda(\\mathrm{ZZ}) &= \\mathrm{ZZ}  \\\\\n",
    "\\end{align}\n",
    "\n",
    "\n",
    "and now the Pauli transfer matrix (PTM) can be build for as follows:\n",
    "\n",
    "\\begin{align}\n",
    "\\mathrm{PTM}(a,a) &= \\frac{1}{2^2} \\mathrm{Tr}\\left[ P^\\dagger_a \\Lambda(P_a) \\right] \\\\\n",
    "\\mathrm{PTM}(\\mathrm{IY},\\mathrm{IY}) &= \\frac{1}{2^2} \\mathrm{Tr}\\left[ \\mathrm{IY} (0.96 \\times \\mathrm{IY}) \\right] = 0.96 \\\\\n",
    "\\mathrm{PTM}(\\mathrm{IY},\\mathrm{IY}) &= f_{\\mathrm{IY}} = 0.96\n",
    "\\end{align}\n",
    "Similarly,\n",
    "\n",
    "\\begin{align}\n",
    "\\mathrm{PTM}(\\mathrm{ZZ},\\mathrm{ZZ}) &= f_{\\mathrm{ZZ}} = 1 \n",
    "\\end{align}\n",
    "\n",
    "and for say $\\mathrm{ZY} $\n",
    "\n",
    "\\begin{align}\n",
    "\\Lambda(\\mathrm{ZY}) &= 0.02 \\times\\mathrm{XX} (\\mathrm{ZY}) \\mathrm{XX} + 0.98 \\times\\mathrm{ZY}  \\\\\n",
    "\\Lambda(\\mathrm{ZY}) &= - 0.02 \\times \\mathrm{ZY}+ 0.98 \\times\\mathrm{ZY} =  0.96 \\times\\mathrm{ZY}  \\\\\n",
    "\\end{align}\n",
    "\n",
    "and for say $\\mathrm{XX} $\n",
    "\n",
    "\\begin{align}\n",
    "\\Lambda(\\mathrm{XX}) &= 0.02 \\times\\mathrm{XX} (\\mathrm{XX}) \\mathrm{XX} + 0.98 \\times\\mathrm{XX}  \\\\\n",
    "\\Lambda(\\mathrm{XX}) &= \\mathrm{XX}  \\\\\n",
    "\\end{align}"
   ]
  },
  {
   "cell_type": "markdown",
   "metadata": {},
   "source": [
    "### For check, we compute the fidelities of all the model terms using only single measurements "
   ]
  },
  {
   "cell_type": "code",
   "execution_count": 39,
   "metadata": {},
   "outputs": [
    {
     "name": "stdout",
     "output_type": "stream",
     "text": [
      "For the model term: ZI with its clifford conjugate: ZZ\n",
      "measured error of ZI = 0.961 and real error =  (0.96+0j) \n",
      "\n",
      "For the model term: ZY with its clifford conjugate: YX\n",
      "measured error of ZY = 1.0 and real error =  (1+0j) \n",
      "\n",
      "For the model term: YY with its clifford conjugate: ZX\n",
      "measured error of YY = -1.0 and real error =  (1+0j) \n",
      "\n",
      "For the model term: YZ with its clifford conjugate: YI\n",
      "measured error of YZ = 1.0 and real error =  (1+0j) \n",
      "\n",
      "For the model term: YX with its clifford conjugate: ZY\n",
      "measured error of YX = 0.9588 and real error =  (0.96+0j) \n",
      "\n",
      "For the model term: XX with its clifford conjugate: IX\n",
      "measured error of XX = 1.0 and real error =  (1+0j) \n",
      "\n",
      "For the model term: IY with its clifford conjugate: XY\n",
      "measured error of IY = 0.964 and real error =  (0.96+0j) \n",
      "\n",
      "For the model term: XI with its clifford conjugate: XI\n",
      "measured error of XI = 1.0 and real error =  (1+0j) \n",
      "\n",
      "For the model term: IZ with its clifford conjugate: IZ\n",
      "measured error of IZ = 0.9582 and real error =  (0.96+0j) \n",
      "\n",
      "For the model term: XY with its clifford conjugate: IY\n",
      "measured error of XY = 0.9606 and real error =  (0.96+0j) \n",
      "\n",
      "For the model term: ZZ with its clifford conjugate: ZI\n",
      "measured error of ZZ = 1.0 and real error =  (1+0j) \n",
      "\n",
      "For the model term: YI with its clifford conjugate: YZ\n",
      "measured error of YI = 0.9614 and real error =  (0.96+0j) \n",
      "\n",
      "For the model term: XZ with its clifford conjugate: XZ\n",
      "measured error of XZ = 0.9576 and real error =  (0.96+0j) \n",
      "\n",
      "For the model term: IX with its clifford conjugate: XX\n",
      "measured error of IX = 1.0 and real error =  (1+0j) \n",
      "\n",
      "For the model term: ZX with its clifford conjugate: YY\n",
      "measured error of ZX = -0.9558 and real error =  (0.96+0j) \n",
      "\n"
     ]
    }
   ],
   "source": [
    "SINGLE = 1\n",
    "shots = 10000\n",
    "for term in model_terms:\n",
    "    print(f\"For the model term: {term} with its clifford conjugate: {conjugate(term)}\")\n",
    "    circ = instance(prep_basis=conjugate(term), meas_basis=term,noise_repetitions= SINGLE,transpiled=False)\n",
    "    #print(circ)\n",
    "    result_single_counts = sim.run(circ,noise_model=noise_model, shots = shots).result().get_counts()\n",
    "    print(f\"measured error of {term} =\", get_expectation(pauli = term, counts = result_single_counts), \"and real error = \", real_errors_sort[term], \"\\n\")"
   ]
  },
  {
   "cell_type": "markdown",
   "metadata": {},
   "source": [
    "To build circuits for both cycle-bencharmarking and pair-breaking measurements, i.e., single measurements"
   ]
  },
  {
   "cell_type": "code",
   "execution_count": 40,
   "metadata": {},
   "outputs": [
    {
     "name": "stdout",
     "output_type": "stream",
     "text": [
      "bases for singles:  [Pauli('ZX'), Pauli('YX'), Pauli('XX'), Pauli('YZ'), Pauli('ZZ'), Pauli('XY')]\n",
      "double bases:  [Pauli('XX'), Pauli('YX'), Pauli('ZX'), Pauli('XY'), Pauli('YY'), Pauli('ZY'), Pauli('XZ'), Pauli('YZ'), Pauli('ZZ')]\n"
     ]
    }
   ],
   "source": [
    "def get_expectation(pauli, **metadata):\n",
    "        estimator = 0\n",
    "        counts = metadata['counts']\n",
    "        #rostring = metadata['rostring']\n",
    "        #compute locations of non-idetity terms (reversed indexing)\n",
    "        pz = list(reversed([{Pauli(\"I\"):'0'}.get(p,'1') for p in pauli]))\n",
    "        #compute estimator\n",
    "        for key in counts.keys():\n",
    "            k = [i for i in key]            \n",
    "            #compute the overlap in the computational basis\n",
    "            sgn = sum([{('1','1'):1}.get((pauli_bit, key_bit), 0) for pauli_bit, key_bit in zip(pz, k)])\n",
    "            #update estimator\n",
    "            estimator += (-1)**sgn*counts[key]\n",
    "\n",
    "        return estimator/sum(counts.values())\n",
    "def weight(pauli):\n",
    "    return len([p for p in pauli if not p==Pauli(\"I\")])\n",
    "\n",
    "#return True if Paulis differ by \"I\"s only\n",
    "def disjoint(pauli1, pauli2):\n",
    "    return all([p1==p2 or (p1 == Pauli(\"I\") or p2 == Pauli(\"I\")) for p1,p2 in zip(pauli1, pauli2)])\n",
    "\n",
    "#return True if pauli requires a degeracy lifting measurement based on the conditions described above\n",
    "def is_single(pauli):\n",
    "    pair = conjugate(pauli)\n",
    "    return (pauli in model_terms and pair in model_terms) and pauli != pair\n",
    "\n",
    "#find disjoint operators that can be measured simultaneously to find six bases\n",
    "pairs = set([frozenset([p,conjugate(p)]) for p in model_terms if is_single(p)])\n",
    "#print(pairs)\n",
    "single_bases = []\n",
    "for p1,p2 in pairs:\n",
    "    \n",
    "    for i,pauli in enumerate(single_bases):\n",
    "        if disjoint(pauli, p1) and disjoint(pauli, p2):\n",
    "            single_bases[i] = nophase(pauli.compose(p2))\n",
    "            break\n",
    "    else:\n",
    "        if weight(p1)<=weight(p2):\n",
    "            single_bases.append(p2)\n",
    "        else:\n",
    "            single_bases.append(p1)\n",
    "\n",
    "    #print(single_bases)\n",
    "\n",
    "print(\"bases for singles: \",single_bases)\n",
    "print(\"double bases: \", bases)"
   ]
  },
  {
   "cell_type": "code",
   "execution_count": 41,
   "metadata": {},
   "outputs": [
    {
     "name": "stdout",
     "output_type": "stream",
     "text": [
      "[100, 100, 100, 100, 100, 100]\n",
      "6900 / 6900\n"
     ]
    }
   ],
   "source": [
    "SINGLE = 1\n",
    "circuits = []\n",
    "depths = [2,4,8,16,32,64]\n",
    "samples = [100]*len(depths)\n",
    "print(samples)\n",
    "single_samples = 250\n",
    "total = len(bases)*sum(samples)+len(single_bases)*single_samples\n",
    "\n",
    "j=0\n",
    "for basis, (d,s) in product(bases, zip(depths,samples)):\n",
    "    for i in range(s):\n",
    "        circ = instance(basis, basis, d,transpiled=True)\n",
    "        circ.metadata[\"type\"] = \"double\"\n",
    "        circuits.append(circ)\n",
    "\n",
    "        j+=1\n",
    "        print(j,\"/\",total, end='\\r')\n",
    "\n",
    "for basis, s in product(single_bases, range(single_samples)):\n",
    "    circ = instance(conjugate(basis),basis,SINGLE,transpiled=True)\n",
    "    circ.metadata[\"type\"] = \"single\"\n",
    "    circuits.append(circ)\n",
    "\n",
    "    j+=1\n",
    "    print(j,\"/\",total, end='\\r')\n",
    "\n",
    "print(len(circuits))"
   ]
  },
  {
   "cell_type": "code",
   "execution_count": 42,
   "metadata": {},
   "outputs": [],
   "source": [
    "results = sim.run(circuits, shots=1000, noise_model = noise_model).result().get_counts()"
   ]
  },
  {
   "cell_type": "code",
   "execution_count": 43,
   "metadata": {},
   "outputs": [],
   "source": [
    "#Shows whether two pauli operators can be measured simultaneously\n",
    "def simultaneous(pauli1, pauli2):\n",
    "    return all([p1==p2 or p2 == Pauli(\"I\") for p1,p2 in zip(pauli1, pauli2)])\n",
    "\n",
    "#Gives a list of all terms in the model that can be measured simultaneously with pauli\n",
    "def sim_meas(pauli):\n",
    "    return [term for term in model_terms if simultaneous(pauli, term)]\n",
    "\n",
    "#Gives a list of all terms, in the sparse model or not, that can be measured simultaneously\n",
    "#This is used to overdeteremine the model, but since it grows as 2^n, this method can always be\n",
    "#replaced with sim_meas\n",
    "def all_sim_meas(pauli):\n",
    "    return [Pauli(\"\".join(p)) for p in product(*zip(pauli.to_label(), \"I\"*n))]\n",
    "#all_sim_meas = sim_meas\n"
   ]
  },
  {
   "cell_type": "code",
   "execution_count": 44,
   "metadata": {},
   "outputs": [],
   "source": [
    "#Sort into single and double measurements\n",
    "for res,circ in zip(results, circuits):\n",
    "    circ.metadata[\"counts\"] = res\n",
    "\n",
    "singles = []\n",
    "doubles = []\n",
    "for circ in circuits:\n",
    "    datum = circ.metadata\n",
    "    type = datum[\"type\"]\n",
    "    datum.pop(\"type\")\n",
    "    if type == \"single\":\n",
    "        singles.append(datum)\n",
    "    elif type == \"double\":\n",
    "        doubles.append(datum)"
   ]
  },
  {
   "cell_type": "code",
   "execution_count": 45,
   "metadata": {},
   "outputs": [],
   "source": [
    "#reorder by measurement basis\n",
    "basis_dict = {}\n",
    "#improve execution time by storing runs of all_sim_meas for each basis\n",
    "sim_measurements = {}\n",
    "for datum in doubles:\n",
    "    #print(datum)\n",
    "    #get run data\n",
    "    basis = datum['prep_basis']\n",
    "    depth = datum['depth']\n",
    "    #find simultaneous measurements\n",
    "    if not basis in sim_measurements:\n",
    "        sim_measurements[basis] = all_sim_meas(basis)\n",
    "    #aggregate expectation value data for each simultaneous measurement\n",
    "    for pauli in sim_measurements[basis]:\n",
    "        expectation = get_expectation(pauli, **datum)\n",
    "        #set up dictionary\n",
    "        if not pauli in basis_dict:\n",
    "            basis_dict[pauli] = {\"expectation\":[0 for d in depths], \"total\":[0 for d in depths]}\n",
    "        #add expectation value to result at depth\n",
    "        basis_dict[pauli][\"expectation\"][depths.index(depth)] += expectation\n",
    "        basis_dict[pauli][\"total\"][depths.index(depth)] += 1"
   ]
  },
  {
   "cell_type": "code",
   "execution_count": 46,
   "metadata": {},
   "outputs": [
    {
     "name": "stderr",
     "output_type": "stream",
     "text": [
      "/var/folders/5p/92y041nj2xxcnv4mzy0r4z5m0000gn/T/ipykernel_76268/4168809998.py:9: OptimizeWarning: Covariance of the parameters could not be estimated\n",
      "  popt, pcov = curve_fit(expfit, depths, basis_dict[key][\"expectation\"], p0=[.9,.01])\n"
     ]
    }
   ],
   "source": [
    "expfit = lambda x,a,b : a*np.exp(-x*b)\n",
    "#for each of the simultaneous measurements\n",
    "for key in basis_dict.keys():\n",
    "    for i,d in enumerate(depths):\n",
    "        #divide by total\n",
    "        basis_dict[key][\"expectation\"][i] /= basis_dict[key][\"total\"][i]\n",
    "    #try finding exponential fit, default to ideal if no fit found\n",
    "    try:\n",
    "        popt, pcov = curve_fit(expfit, depths, basis_dict[key][\"expectation\"], p0=[.9,.01])\n",
    "    except:\n",
    "        popt = 1,0\n",
    "\n",
    "    #store fidelity and SPAM coefficients\n",
    "    basis_dict[key][\"fidelity\"] = expfit(1,1,popt[1])\n",
    "    basis_dict[key][\"SPAM\"] = popt[0]\n",
    "\n",
    "    #record whether measurement appears as a pair or as a single fidelity\n",
    "    if key != conjugate(key):\n",
    "        basis_dict[key][\"type\"] = \"pair\"\n",
    "    else:\n",
    "        basis_dict[key][\"type\"] = \"single\""
   ]
  },
  {
   "cell_type": "code",
   "execution_count": 47,
   "metadata": {},
   "outputs": [],
   "source": [
    "singles_dict = {} #store results of single measurements\n",
    "sim_measurements = {}\n",
    "for datum in singles:\n",
    "    meas_basis = datum['meas_basis']\n",
    "    prep_basis = datum['prep_basis']\n",
    "    #find terms that can be measured simultaneously\n",
    "    if not meas_basis in sim_measurements:\n",
    "        sim_measurements[meas_basis] = []\n",
    "        for term in model_terms:\n",
    "            if simultaneous(meas_basis, term) and simultaneous(prep_basis, conjugate(term)) and is_single(term):\n",
    "                sim_measurements[meas_basis].append(term)\n",
    "    #aggregate data together\n",
    "    for meas in sim_measurements[meas_basis]:\n",
    "        if meas not in singles_dict:\n",
    "            singles_dict[meas] = 0\n",
    "        expectation = get_expectation(meas, **datum)\n",
    "        #the measurement basis SPAM coefficients are closer because the readout noise, combined\n",
    "        #with the noise from the last layer, is greater than the state preparation noise\n",
    "        fidelity = np.min([1.0,np.abs(expectation)/basis_dict[meas][\"SPAM\"]])\n",
    "        singles_dict[meas] += fidelity/single_samples\n",
    "\n",
    "#add singles data to basis_dict\n",
    "for key in singles_dict.keys():\n",
    "    basis_dict[key]['fidelity'] = singles_dict[key]\n",
    "    basis_dict[key]['type'] = \"single\""
   ]
  },
  {
   "cell_type": "code",
   "execution_count": 48,
   "metadata": {},
   "outputs": [],
   "source": [
    "fidelities = []\n",
    "fidelities_calculated = []\n",
    "for p in model_terms:\n",
    "    fid = basis_dict[p]['fidelity']\n",
    "    \n",
    "    if(basis_dict[p]['type'] == 'pair'):\n",
    "        \n",
    "        pair = conjugate(p)\n",
    "        fid = fid**2/basis_dict[pair]['fidelity']\n",
    "        \n",
    "    fidelities.append(fid)\n",
    "    fidelities_calculated.append(real_errors_sort[p])"
   ]
  },
  {
   "cell_type": "code",
   "execution_count": 49,
   "metadata": {},
   "outputs": [
    {
     "name": "stderr",
     "output_type": "stream",
     "text": [
      "/opt/anaconda3/envs/Quantum/lib/python3.11/site-packages/matplotlib/cbook.py:1762: ComplexWarning: Casting complex values to real discards the imaginary part\n",
      "  return math.isfinite(val)\n",
      "/opt/anaconda3/envs/Quantum/lib/python3.11/site-packages/matplotlib/transforms.py:767: ComplexWarning: Casting complex values to real discards the imaginary part\n",
      "  points = np.asarray(points, float)\n",
      "/opt/anaconda3/envs/Quantum/lib/python3.11/site-packages/matplotlib/transforms.py:767: ComplexWarning: Casting complex values to real discards the imaginary part\n",
      "  points = np.asarray(points, float)\n"
     ]
    },
    {
     "data": {
      "image/png": "[encoded data removed]",
      "text/plain": [
       "<Figure size 640x480 with 1 Axes>"
      ]
     },
     "metadata": {},
     "output_type": "display_data"
    }
   ],
   "source": [
    "#graph a subset of the measured expectation values and plot fits\n",
    "def graph(*paulis):\n",
    "    colcy = cycle([\"tab:blue\", \"tab:orange\", \"tab:green\", \"tab:red\", \"tab:purple\", \"tab:cyan\", \"tab:brown\", \"tab:pink\", \"tab:gray\", \"tab:olive\"])\n",
    "    for p in paulis:\n",
    "        c = next(colcy)\n",
    "        data = basis_dict[p]['expectation']\n",
    "        popt, pcov = curve_fit(expfit, depths, data, p0=[.9,.01])\n",
    "        xrange = np.linspace(0,np.max(depths))\n",
    "        plt.plot(xrange, [expfit(x, *popt) for x in xrange], color=c)\n",
    "        plt.plot(depths, data, color = c, marker=\"o\", linestyle = 'None')\n",
    "    plt.title(\"Expectation vs Depth\")\n",
    "    plt.xlabel(\"Depth\")\n",
    "    plt.ylabel(\"Fidelity\")\n",
    "\n",
    "#display the measured fidelities plotted against the ideal fidelitites\n",
    "def display(*paulis):\n",
    "    ax = np.arange(len(paulis))\n",
    "    fidelities = []\n",
    "    fidelities_calculated = []\n",
    "    for p in paulis:\n",
    "        fid = basis_dict[p]['fidelity']\n",
    "        if(basis_dict[p]['type'] == 'pair'):\n",
    "            pair = conjugate(p)\n",
    "            fid = fid**2/basis_dict[pair]['fidelity']\n",
    "        fidelities.append(fid)\n",
    "        fidelities_calculated.append(real_errors_sort[p])\n",
    "    plt.bar(ax+.2, [(1-f) for f in fidelities], .4,color='tab:blue')\n",
    "    plt.bar(ax-.2, [(1-f) for f in fidelities_calculated],.4, color='tab:green')\n",
    "    plt.xticks(ax, paulis)\n",
    "    plt.title(\"Measured vs Actual Fidelitites\")\n",
    "    plt.xlabel(\"Term\")\n",
    "    plt.ylabel(\" (1-f)\")\n",
    "    plt.legend([\"Measured\", \"Ideal\"])\n",
    "display(*model_terms)"
   ]
  },
  {
   "cell_type": "code",
   "execution_count": 81,
   "metadata": {},
   "outputs": [
    {
     "name": "stdout",
     "output_type": "stream",
     "text": [
      "This is B1 list needed to build the M1 matrix: ['ZI', 'ZY', 'YY', 'YZ', 'YX', 'XX', 'IY', 'XI', 'IZ', 'XY', 'ZZ', 'YI', 'XZ', 'IX', 'ZX']\n",
      "This is B2 list needed to build the M2 matrix: ['ZZ', 'YX', 'ZX', 'YZ', 'YX', 'XX', 'XY', 'XI', 'IZ', 'XY', 'ZZ', 'YZ', 'XZ', 'XX', 'ZX']\n",
      "[('YZ', 'YZ'), ('YX', 'YX'), ('XX', 'XX'), ('XI', 'XI'), ('IZ', 'IZ'), ('XY', 'XY'), ('ZZ', 'ZZ'), ('XZ', 'XZ'), ('ZX', 'ZX')]\n"
     ]
    }
   ],
   "source": [
    "f1 = []\n",
    "f2 = []\n",
    "fidelities = []\n",
    "for key in model_terms:\n",
    "    f1.append(key)\n",
    "    fidelities.append(basis_dict[key]['fidelity'])\n",
    "    \n",
    "    if basis_dict[key][\"type\"] == \"pair\":\n",
    "        pair = conjugate(key)\n",
    "        f2.append(pair)\n",
    "    else:\n",
    "        f2.append(key)\n",
    "\n",
    "print(\"This is B1 list needed to build the M1 matrix:\",([f.to_label() for f in f1]))\n",
    "print(\"This is B2 list needed to build the M2 matrix:\",([f.to_label() for f in f2]))\n",
    "B1B2= []\n",
    "for i,j in zip(f1,f2):\n",
    "    if i.to_label()==j.to_label():\n",
    "        B1B2.append((i.to_label(),j.to_label()))\n",
    "    #if i==j:\n",
    "\n",
    "print(B1B2)"
   ]
  },
  {
   "cell_type": "code",
   "execution_count": 82,
   "metadata": {},
   "outputs": [
    {
     "data": {
      "text/plain": [
       "15"
      ]
     },
     "execution_count": 82,
     "metadata": {},
     "output_type": "execute_result"
    }
   ],
   "source": [
    "sprod = lambda a,b: int(a.anticommutes(b))\n",
    "M1 = [[sprod(a,b) for a in model_terms] for b in f1]\n",
    "M2 = [[sprod(a,b) for a in model_terms] for b in f2]\n",
    "# The rank of the M matrix has to be maximum, i.e., equal to model terms to find unique solution\n",
    "np.linalg.matrix_rank(np.add(M1,M2))"
   ]
  },
  {
   "cell_type": "code",
   "execution_count": 83,
   "metadata": {},
   "outputs": [
    {
     "name": "stderr",
     "output_type": "stream",
     "text": [
      "/opt/anaconda3/envs/Quantum/lib/python3.11/site-packages/scipy/optimize/_nnls.py:120: ComplexWarning: Casting complex values to real discards the imaginary part\n",
      "  resid = Atb.copy().astype(np.float64)  # x=0. Skip (-AtA @ x) term\n",
      "/opt/anaconda3/envs/Quantum/lib/python3.11/site-packages/scipy/optimize/_nnls.py:135: ComplexWarning: Casting complex values to real discards the imaginary part\n",
      "  s[P] = solve(AtA[P_ind[:, None], P_ind[None, :]], Atb[P],\n"
     ]
    }
   ],
   "source": [
    "coeffs,rnorm = nnls(np.add(M1,M2), -np.log(fidelities))\n",
    "real_coeffs, real_rnorm = nnls(M1, -.5*np.log([real_errors_sort[term] for term in f1]))"
   ]
  },
  {
   "cell_type": "code",
   "execution_count": 84,
   "metadata": {},
   "outputs": [
    {
     "data": {
      "text/plain": [
       "<matplotlib.legend.Legend at 0x3385582d0>"
      ]
     },
     "execution_count": 84,
     "metadata": {},
     "output_type": "execute_result"
    },
    {
     "data": {
      "image/png": "[encoded data removed]",
      "text/plain": [
       "<Figure size 640x480 with 1 Axes>"
      ]
     },
     "metadata": {},
     "output_type": "display_data"
    }
   ],
   "source": [
    "ax = np.arange(len(model_terms))\n",
    "plt.bar(ax+.2, coeffs, .4, color='tab:blue')\n",
    "plt.bar(ax-.2, real_coeffs, .4, color='tab:green')\n",
    "plt.xticks(ax, model_terms);\n",
    "plt.title(\"Computed vs Measured Model Terms\")\n",
    "plt.xlabel(\"Term\")\n",
    "plt.ylabel(\"Coefficient\")\n",
    "plt.legend([\"Measured\", \"Ideal\"])\n"
   ]
  },
  {
   "cell_type": "code",
   "execution_count": null,
   "metadata": {},
   "outputs": [],
   "source": []
  }
 ],
 "metadata": {
  "kernelspec": {
   "display_name": "Quantum",
   "language": "python",
   "name": "python3"
  },
  "language_info": {
   "codemirror_mode": {
    "name": "ipython",
    "version": 3
   },
   "file_extension": ".py",
   "mimetype": "text/x-python",
   "name": "python",
   "nbconvert_exporter": "python",
   "pygments_lexer": "ipython3",
   "version": "3.11.9"
  }
 },
 "nbformat": 4,
 "nbformat_minor": 2
}
