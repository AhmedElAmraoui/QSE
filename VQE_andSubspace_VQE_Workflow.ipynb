{
 "cells": [
  {
   "cell_type": "code",
   "execution_count": 1,
   "id": "303d5d59",
   "metadata": {},
   "outputs": [],
   "source": [
    "import sys\n",
    "sys.path.append(\"./src\")\n",
    "\n",
    "from utils import *\n",
    "from qiskit.transpiler import CouplingMap"
   ]
  },
  {
   "cell_type": "markdown",
   "id": "7e746b6e",
   "metadata": {},
   "source": [
    "## VQE"
   ]
  },
  {
   "cell_type": "code",
   "execution_count": 3,
   "id": "c8f729b8",
   "metadata": {},
   "outputs": [
    {
     "name": "stdout",
     "output_type": "stream",
     "text": [
      "Relativer Fehler: 12.506690993773068 %\n",
      "Optimierte Parameter: [-8.40283979e-05  1.57076829e+00 -1.57084273e+00]\n",
      "Minimaler relativer Fehler: 28.678108564628584%\n"
     ]
    }
   ],
   "source": [
    "hx_min = 0.10526315789473673\n",
    "hz_min = 2.0\n",
    "backend = FakeQuitoV2()\n",
    "H, pauli_strings = build_sparse_hamiltonian(hx = hx_min, hz= hz_min, backend=backend, J=-1, return_paulis=True)\n",
    "best_params, opt_error = find_best_initial_params_counts(H, pauli_strings, backend)\n",
    "groups = group_paulis(pauli_strings)\n",
    "\n",
    "measurement_bases = []\n",
    "for i, group in enumerate(groups):\n",
    "    measurement_bases.append(determine_measurement_basis(group))\n",
    "\n",
    "circuit = build_hva_layers(best_params, backend)\n",
    "circuits = apply_measurement_bases(circuit, measurement_bases)\n",
    "\n",
    "counts = []\n",
    "#simulator = AerSimulator()\n",
    "simulator = AerSimulator.from_backend(backend)\n",
    "transpiled_circuits = transpile(circuits, backend=backend, optimization_level=3)\n",
    "for circuit in transpiled_circuits:\n",
    "    result = simulator.run(circuit,shots=4*1024).result()\n",
    "    counts.append(result.get_counts())\n",
    "    \n",
    "pauli_expectations = get_pauli_expectation_dict(groups, counts)\n",
    "\n",
    "energy = get_energy(H, pauli_expectations)\n",
    "    \n",
    "exact_energy = compute_exact_ground_energy(H)\n",
    "rel_error = abs(exact_energy - energy) / abs(exact_energy)\n",
    "print(f\"Relativer Fehler: {rel_error*100} %\")\n",
    "\n",
    "# Optimierung mit COBYLA oder Nelder-Mead (robust bei Noisy Cost Functions):\n",
    "result = minimize(vqe_cost, best_params,args=(backend,simulator,1,measurement_bases,groups,H,exact_energy), method=\"COBYLA\", options={'maxiter': 50})\n",
    "\n",
    "print(f\"Optimierte Parameter: {result.x}\")\n",
    "print(f\"Minimaler relativer Fehler: {result.fun*100}%\")"
   ]
  },
  {
   "cell_type": "markdown",
   "id": "82d3dc7a",
   "metadata": {},
   "source": [
    "## Subspace VQE"
   ]
  },
  {
   "cell_type": "code",
   "execution_count": 6,
   "id": "cd3ad57d",
   "metadata": {},
   "outputs": [
    {
     "name": "stdout",
     "output_type": "stream",
     "text": [
      "Grundzustandsenergie: -14.185140696170809\n",
      "Relativer Fehler: 1.2643372211559456 %\n"
     ]
    }
   ],
   "source": [
    "backend = FakeQuitoV2()\n",
    "hx_min = 0.10526315789473673\n",
    "hz_min = 2.0\n",
    "opt_params = [-6.29010556e-05, -1.60006899e+00,  1.57076956e+00]\n",
    "\n",
    "H, pauli_strings = build_sparse_hamiltonian(hx = hx_min, hz= hz_min, backend=backend, J=-1, return_paulis=True)\n",
    "circuit = build_hva_layers(opt_params, backend)\n",
    "pauli_strings = [p.to_label() for p in H.paulis]\n",
    "unique_paulis = unique_paulis_up_to_N(pauli_strings, N=1)\n",
    "\n",
    "\n",
    "H_red_observables = generate_all_transformed_hamiltonians(H, unique_paulis)\n",
    "S_red_observables = generate_all_pauli_products(unique_paulis)\n",
    "\n",
    "all_pauli_strings = []\n",
    "for key in H_red_observables.keys():\n",
    "    paulis1 = [str(p) for p in H_red_observables[key].paulis]\n",
    "    all_pauli_strings.extend(paulis1)\n",
    "    \n",
    "    paulis2 = [str(p) for p in S_red_observables[key].paulis]\n",
    "    all_pauli_strings.extend(paulis2)\n",
    "\n",
    "all_paulis_unique = list(set(all_pauli_strings))\n",
    "all_groups = group_paulis(all_paulis_unique)\n",
    "all_measurement_bases = []\n",
    "\n",
    "for i, group in enumerate(all_groups):\n",
    "    basis = determine_measurement_basis(group)\n",
    "    all_measurement_bases.append(basis)\n",
    "    \n",
    "circuits = apply_measurement_bases(circuit, all_measurement_bases)\n",
    "\n",
    "counts = []\n",
    "#simulator = AerSimulator()\n",
    "simulator = AerSimulator.from_backend(backend)\n",
    "transpiled_circuits = transpile(circuits, backend=backend, optimization_level=3)\n",
    "#transpiled_circuits = circuits\n",
    "for circuit in transpiled_circuits:\n",
    "    result = simulator.run(circuit,shots=1024).result()\n",
    "    counts.append(result.get_counts())\n",
    "    \n",
    "pauli_expectations = get_pauli_expectation_dict(all_groups, counts)\n",
    "pauli_list = list(unique_paulis)\n",
    "n = len(pauli_list)\n",
    "H_red = np.zeros((n, n), dtype=complex)\n",
    "S_red = np.zeros((n, n), dtype=complex)\n",
    "\n",
    "for (P_i, P_k), Observable in H_red_observables.items():\n",
    "    i = pauli_list.index(P_i)\n",
    "    j = pauli_list.index(P_k)\n",
    "    H_red[i, j] = get_energy(Observable, pauli_expectations)\n",
    "    S_red[i, j] = get_energy(S_red_observables[(P_i, P_k)], pauli_expectations)\n",
    "\n",
    "\n",
    "#Eigenwerte mit Rauschen sind zum Teil negativ! --> Eigenwertberechnung so\n",
    "\n",
    "eigvals_S, eigvecs_S = np.linalg.eigh(np.real(S_red))\n",
    "mask = eigvals_S > 1e-1\n",
    "V = eigvecs_S[:, mask]\n",
    "\n",
    "S_proj = V.T.conj() @ S_red @ V\n",
    "H_proj = V.T.conj() @ H_red @ V\n",
    "\n",
    "S_inv_sqrt = fractional_matrix_power(S_proj, -0.5)\n",
    "H_eff = S_inv_sqrt @ H_proj @ S_inv_sqrt\n",
    "\n",
    "eigvals_proj, eigvecs_proj = np.linalg.eigh(H_eff)\n",
    "ground_energy = eigvals_proj[0]\n",
    "ground_state = eigvecs_proj[:, 0]\n",
    "   \n",
    "exact_energy = compute_exact_ground_energy(H)\n",
    "rel_error = abs(exact_energy - ground_energy) / abs(exact_energy)\n",
    "\n",
    "print(f\"Grundzustandsenergie: {ground_energy}\")\n",
    "print(f\"Relativer Fehler: {rel_error*100} %\")"
   ]
  },
  {
   "cell_type": "code",
   "execution_count": 4,
   "id": "9acdb5b0",
   "metadata": {},
   "outputs": [
    {
     "name": "stdout",
     "output_type": "stream",
     "text": [
      "Initial Error        : 0.10484684299231518\n",
      "Exakte Energie       :  -7.819890870294844\n",
      "Startparameter       : [ 0.         -1.57079633  1.57079633]\n",
      "Optimierte Parameter : [-2.13354542e-05 -1.96813607e+00  1.57075369e+00]\n",
      "Minimaler Fehler     : 0.004204534323267825\n"
     ]
    }
   ],
   "source": [
    "# Lineare Kopplung: 0–1–2–3\n",
    "coupling = CouplingMap(couplinglist=[(0, 1), (1, 2), (2, 3)])\n",
    "backend = GenericBackendV2(num_qubits=4, coupling_map=coupling)\n",
    "\n",
    "num_qubits, coupling_map = get_backend_info(backend)\n",
    "plot_gate_map(backend)\n",
    "\n",
    "hx = 1\n",
    "hz = 1\n",
    "H_sparse = build_sparse_hamiltonian(hx, hz, backend, J=-1)\n",
    "\n",
    "best_guess, energy_exact = find_best_initial_params(H_sparse, backend)\n",
    "\n",
    "opt_params, min_error = optimize_energy(best_guess, H_sparse, backend, energy_exact)\n",
    "\n",
    "print(f\"Initial Error        : {compute_error(best_guess, H_sparse, backend, energy_exact, num_layers=1)}\")\n",
    "print(\"Exakte Energie       : \", energy_exact)\n",
    "print(\"Startparameter       :\",best_guess)\n",
    "print(\"Optimierte Parameter :\", opt_params)\n",
    "print(\"Minimaler Fehler     :\", min_error)"
   ]
  }
 ],
 "metadata": {
  "kernelspec": {
   "display_name": "qiskit-venv",
   "language": "python",
   "name": "python3"
  },
  "language_info": {
   "codemirror_mode": {
    "name": "ipython",
    "version": 3
   },
   "file_extension": ".py",
   "mimetype": "text/x-python",
   "name": "python",
   "nbconvert_exporter": "python",
   "pygments_lexer": "ipython3",
   "version": "3.10.11"
  }
 },
 "nbformat": 4,
 "nbformat_minor": 5
}
